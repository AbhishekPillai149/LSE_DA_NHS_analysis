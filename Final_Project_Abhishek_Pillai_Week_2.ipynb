{
 "cells": [
  {
   "cell_type": "markdown",
   "id": "822ef22c",
   "metadata": {},
   "source": [
    "# IMPORT PANDAS"
   ]
  },
  {
   "cell_type": "code",
   "execution_count": 11,
   "id": "ea2b3be2",
   "metadata": {},
   "outputs": [],
   "source": [
    "# Import Pandas\n",
    "\n",
    "import pandas as pd"
   ]
  },
  {
   "cell_type": "markdown",
   "id": "ab58ebd5",
   "metadata": {},
   "source": [
    "# Import actual_duration CSV As 'duration' Dataframe"
   ]
  },
  {
   "cell_type": "code",
   "execution_count": 45,
   "id": "4baa83d0",
   "metadata": {
    "scrolled": false
   },
   "outputs": [
    {
     "data": {
      "text/html": [
       "<div>\n",
       "<style scoped>\n",
       "    .dataframe tbody tr th:only-of-type {\n",
       "        vertical-align: middle;\n",
       "    }\n",
       "\n",
       "    .dataframe tbody tr th {\n",
       "        vertical-align: top;\n",
       "    }\n",
       "\n",
       "    .dataframe thead th {\n",
       "        text-align: right;\n",
       "    }\n",
       "</style>\n",
       "<table border=\"1\" class=\"dataframe\">\n",
       "  <thead>\n",
       "    <tr style=\"text-align: right;\">\n",
       "      <th></th>\n",
       "      <th>sub_icb_location_code</th>\n",
       "      <th>sub_icb_location_ons_code</th>\n",
       "      <th>sub_icb_location_name</th>\n",
       "      <th>icb_ons_code</th>\n",
       "      <th>region_ons_code</th>\n",
       "      <th>appointment_date</th>\n",
       "      <th>actual_duration</th>\n",
       "      <th>count_of_appointments</th>\n",
       "    </tr>\n",
       "  </thead>\n",
       "  <tbody>\n",
       "    <tr>\n",
       "      <th>0</th>\n",
       "      <td>00L</td>\n",
       "      <td>E38000130</td>\n",
       "      <td>NHS North East and North Cumbria ICB - 00L</td>\n",
       "      <td>E54000050</td>\n",
       "      <td>E40000012</td>\n",
       "      <td>01-Dec-21</td>\n",
       "      <td>31-60 Minutes</td>\n",
       "      <td>364</td>\n",
       "    </tr>\n",
       "    <tr>\n",
       "      <th>1</th>\n",
       "      <td>00L</td>\n",
       "      <td>E38000130</td>\n",
       "      <td>NHS North East and North Cumbria ICB - 00L</td>\n",
       "      <td>E54000050</td>\n",
       "      <td>E40000012</td>\n",
       "      <td>01-Dec-21</td>\n",
       "      <td>21-30 Minutes</td>\n",
       "      <td>619</td>\n",
       "    </tr>\n",
       "    <tr>\n",
       "      <th>2</th>\n",
       "      <td>00L</td>\n",
       "      <td>E38000130</td>\n",
       "      <td>NHS North East and North Cumbria ICB - 00L</td>\n",
       "      <td>E54000050</td>\n",
       "      <td>E40000012</td>\n",
       "      <td>01-Dec-21</td>\n",
       "      <td>6-10 Minutes</td>\n",
       "      <td>1698</td>\n",
       "    </tr>\n",
       "    <tr>\n",
       "      <th>3</th>\n",
       "      <td>00L</td>\n",
       "      <td>E38000130</td>\n",
       "      <td>NHS North East and North Cumbria ICB - 00L</td>\n",
       "      <td>E54000050</td>\n",
       "      <td>E40000012</td>\n",
       "      <td>01-Dec-21</td>\n",
       "      <td>Unknown / Data Quality</td>\n",
       "      <td>1277</td>\n",
       "    </tr>\n",
       "    <tr>\n",
       "      <th>4</th>\n",
       "      <td>00L</td>\n",
       "      <td>E38000130</td>\n",
       "      <td>NHS North East and North Cumbria ICB - 00L</td>\n",
       "      <td>E54000050</td>\n",
       "      <td>E40000012</td>\n",
       "      <td>01-Dec-21</td>\n",
       "      <td>16-20 Minutes</td>\n",
       "      <td>730</td>\n",
       "    </tr>\n",
       "    <tr>\n",
       "      <th>...</th>\n",
       "      <td>...</td>\n",
       "      <td>...</td>\n",
       "      <td>...</td>\n",
       "      <td>...</td>\n",
       "      <td>...</td>\n",
       "      <td>...</td>\n",
       "      <td>...</td>\n",
       "      <td>...</td>\n",
       "    </tr>\n",
       "    <tr>\n",
       "      <th>137788</th>\n",
       "      <td>X2C4Y</td>\n",
       "      <td>E38000254</td>\n",
       "      <td>NHS West Yorkshire ICB - X2C4Y</td>\n",
       "      <td>E54000054</td>\n",
       "      <td>E40000012</td>\n",
       "      <td>30-Jun-22</td>\n",
       "      <td>31-60 Minutes</td>\n",
       "      <td>430</td>\n",
       "    </tr>\n",
       "    <tr>\n",
       "      <th>137789</th>\n",
       "      <td>X2C4Y</td>\n",
       "      <td>E38000254</td>\n",
       "      <td>NHS West Yorkshire ICB - X2C4Y</td>\n",
       "      <td>E54000054</td>\n",
       "      <td>E40000012</td>\n",
       "      <td>30-Jun-22</td>\n",
       "      <td>21-30 Minutes</td>\n",
       "      <td>751</td>\n",
       "    </tr>\n",
       "    <tr>\n",
       "      <th>137790</th>\n",
       "      <td>X2C4Y</td>\n",
       "      <td>E38000254</td>\n",
       "      <td>NHS West Yorkshire ICB - X2C4Y</td>\n",
       "      <td>E54000054</td>\n",
       "      <td>E40000012</td>\n",
       "      <td>30-Jun-22</td>\n",
       "      <td>16-20 Minutes</td>\n",
       "      <td>921</td>\n",
       "    </tr>\n",
       "    <tr>\n",
       "      <th>137791</th>\n",
       "      <td>X2C4Y</td>\n",
       "      <td>E38000254</td>\n",
       "      <td>NHS West Yorkshire ICB - X2C4Y</td>\n",
       "      <td>E54000054</td>\n",
       "      <td>E40000012</td>\n",
       "      <td>30-Jun-22</td>\n",
       "      <td>11-15 Minutes</td>\n",
       "      <td>1439</td>\n",
       "    </tr>\n",
       "    <tr>\n",
       "      <th>137792</th>\n",
       "      <td>X2C4Y</td>\n",
       "      <td>E38000254</td>\n",
       "      <td>NHS West Yorkshire ICB - X2C4Y</td>\n",
       "      <td>E54000054</td>\n",
       "      <td>E40000012</td>\n",
       "      <td>30-Jun-22</td>\n",
       "      <td>1-5 Minutes</td>\n",
       "      <td>1739</td>\n",
       "    </tr>\n",
       "  </tbody>\n",
       "</table>\n",
       "<p>137793 rows × 8 columns</p>\n",
       "</div>"
      ],
      "text/plain": [
       "       sub_icb_location_code sub_icb_location_ons_code  \\\n",
       "0                        00L                 E38000130   \n",
       "1                        00L                 E38000130   \n",
       "2                        00L                 E38000130   \n",
       "3                        00L                 E38000130   \n",
       "4                        00L                 E38000130   \n",
       "...                      ...                       ...   \n",
       "137788                 X2C4Y                 E38000254   \n",
       "137789                 X2C4Y                 E38000254   \n",
       "137790                 X2C4Y                 E38000254   \n",
       "137791                 X2C4Y                 E38000254   \n",
       "137792                 X2C4Y                 E38000254   \n",
       "\n",
       "                             sub_icb_location_name icb_ons_code  \\\n",
       "0       NHS North East and North Cumbria ICB - 00L    E54000050   \n",
       "1       NHS North East and North Cumbria ICB - 00L    E54000050   \n",
       "2       NHS North East and North Cumbria ICB - 00L    E54000050   \n",
       "3       NHS North East and North Cumbria ICB - 00L    E54000050   \n",
       "4       NHS North East and North Cumbria ICB - 00L    E54000050   \n",
       "...                                            ...          ...   \n",
       "137788              NHS West Yorkshire ICB - X2C4Y    E54000054   \n",
       "137789              NHS West Yorkshire ICB - X2C4Y    E54000054   \n",
       "137790              NHS West Yorkshire ICB - X2C4Y    E54000054   \n",
       "137791              NHS West Yorkshire ICB - X2C4Y    E54000054   \n",
       "137792              NHS West Yorkshire ICB - X2C4Y    E54000054   \n",
       "\n",
       "       region_ons_code appointment_date         actual_duration  \\\n",
       "0            E40000012        01-Dec-21           31-60 Minutes   \n",
       "1            E40000012        01-Dec-21           21-30 Minutes   \n",
       "2            E40000012        01-Dec-21            6-10 Minutes   \n",
       "3            E40000012        01-Dec-21  Unknown / Data Quality   \n",
       "4            E40000012        01-Dec-21           16-20 Minutes   \n",
       "...                ...              ...                     ...   \n",
       "137788       E40000012        30-Jun-22           31-60 Minutes   \n",
       "137789       E40000012        30-Jun-22           21-30 Minutes   \n",
       "137790       E40000012        30-Jun-22           16-20 Minutes   \n",
       "137791       E40000012        30-Jun-22           11-15 Minutes   \n",
       "137792       E40000012        30-Jun-22             1-5 Minutes   \n",
       "\n",
       "        count_of_appointments  \n",
       "0                         364  \n",
       "1                         619  \n",
       "2                        1698  \n",
       "3                        1277  \n",
       "4                         730  \n",
       "...                       ...  \n",
       "137788                    430  \n",
       "137789                    751  \n",
       "137790                    921  \n",
       "137791                   1439  \n",
       "137792                   1739  \n",
       "\n",
       "[137793 rows x 8 columns]"
      ]
     },
     "execution_count": 45,
     "metadata": {},
     "output_type": "execute_result"
    }
   ],
   "source": [
    "# Import the actual_duration CSV File\n",
    "\n",
    "duration = pd.read_csv('actual_duration.csv')\n",
    "\n",
    "duration"
   ]
  },
  {
   "cell_type": "markdown",
   "id": "cbcbee1e",
   "metadata": {},
   "source": [
    "# Sense - Check 'duration' Dataframe"
   ]
  },
  {
   "cell_type": "code",
   "execution_count": 17,
   "id": "367be3c1",
   "metadata": {},
   "outputs": [
    {
     "name": "stdout",
     "output_type": "stream",
     "text": [
      "Index(['sub_icb_location_code', 'sub_icb_location_ons_code',\n",
      "       'sub_icb_location_name', 'icb_ons_code', 'region_ons_code',\n",
      "       'appointment_date', 'actual_duration', 'count_of_appointments'],\n",
      "      dtype='object')\n"
     ]
    }
   ],
   "source": [
    "# Find the column names for the dataframe called 'duration'\n",
    "\n",
    "print (duration.columns)"
   ]
  },
  {
   "cell_type": "code",
   "execution_count": 18,
   "id": "1cc21e35",
   "metadata": {},
   "outputs": [
    {
     "name": "stdout",
     "output_type": "stream",
     "text": [
      "(137793, 8)\n"
     ]
    }
   ],
   "source": [
    "# Print the the dimensions for the dataframe called 'duration'\n",
    "\n",
    "# The number of rows are printed first, followed by the number \n",
    "# of columns\n",
    "\n",
    "print(duration.shape)"
   ]
  },
  {
   "cell_type": "code",
   "execution_count": 19,
   "id": "01d0ff2a",
   "metadata": {},
   "outputs": [
    {
     "name": "stdout",
     "output_type": "stream",
     "text": [
      "sub_icb_location_code        object\n",
      "sub_icb_location_ons_code    object\n",
      "sub_icb_location_name        object\n",
      "icb_ons_code                 object\n",
      "region_ons_code              object\n",
      "appointment_date             object\n",
      "actual_duration              object\n",
      "count_of_appointments         int64\n",
      "dtype: object\n"
     ]
    }
   ],
   "source": [
    "# Print the the data types contained within each column of\n",
    "# the dataframe called 'duration'\n",
    "\n",
    "print(duration.dtypes)"
   ]
  },
  {
   "cell_type": "code",
   "execution_count": 21,
   "id": "0f1c6501",
   "metadata": {},
   "outputs": [
    {
     "name": "stdout",
     "output_type": "stream",
     "text": [
      "sub_icb_location_code        0\n",
      "sub_icb_location_ons_code    0\n",
      "sub_icb_location_name        0\n",
      "icb_ons_code                 0\n",
      "region_ons_code              0\n",
      "appointment_date             0\n",
      "actual_duration              0\n",
      "count_of_appointments        0\n",
      "dtype: int64\n"
     ]
    }
   ],
   "source": [
    "# Print the number of missing values within each column\n",
    "# of the dataframe called 'duration'\n",
    "\n",
    "print(duration.isnull().sum())"
   ]
  },
  {
   "cell_type": "markdown",
   "id": "c48bc710",
   "metadata": {},
   "source": [
    "# Obtain Descriptive Statistics For 'duration' Dataframe"
   ]
  },
  {
   "cell_type": "code",
   "execution_count": 22,
   "id": "a1ff0667",
   "metadata": {},
   "outputs": [
    {
     "data": {
      "text/html": [
       "<div>\n",
       "<style scoped>\n",
       "    .dataframe tbody tr th:only-of-type {\n",
       "        vertical-align: middle;\n",
       "    }\n",
       "\n",
       "    .dataframe tbody tr th {\n",
       "        vertical-align: top;\n",
       "    }\n",
       "\n",
       "    .dataframe thead th {\n",
       "        text-align: right;\n",
       "    }\n",
       "</style>\n",
       "<table border=\"1\" class=\"dataframe\">\n",
       "  <thead>\n",
       "    <tr style=\"text-align: right;\">\n",
       "      <th></th>\n",
       "      <th>count_of_appointments</th>\n",
       "    </tr>\n",
       "  </thead>\n",
       "  <tbody>\n",
       "    <tr>\n",
       "      <th>count</th>\n",
       "      <td>137793.000000</td>\n",
       "    </tr>\n",
       "    <tr>\n",
       "      <th>mean</th>\n",
       "      <td>1219.080011</td>\n",
       "    </tr>\n",
       "    <tr>\n",
       "      <th>std</th>\n",
       "      <td>1546.902956</td>\n",
       "    </tr>\n",
       "    <tr>\n",
       "      <th>min</th>\n",
       "      <td>1.000000</td>\n",
       "    </tr>\n",
       "    <tr>\n",
       "      <th>25%</th>\n",
       "      <td>194.000000</td>\n",
       "    </tr>\n",
       "    <tr>\n",
       "      <th>50%</th>\n",
       "      <td>696.000000</td>\n",
       "    </tr>\n",
       "    <tr>\n",
       "      <th>75%</th>\n",
       "      <td>1621.000000</td>\n",
       "    </tr>\n",
       "    <tr>\n",
       "      <th>max</th>\n",
       "      <td>15400.000000</td>\n",
       "    </tr>\n",
       "  </tbody>\n",
       "</table>\n",
       "</div>"
      ],
      "text/plain": [
       "       count_of_appointments\n",
       "count          137793.000000\n",
       "mean             1219.080011\n",
       "std              1546.902956\n",
       "min                 1.000000\n",
       "25%               194.000000\n",
       "50%               696.000000\n",
       "75%              1621.000000\n",
       "max             15400.000000"
      ]
     },
     "execution_count": 22,
     "metadata": {},
     "output_type": "execute_result"
    }
   ],
   "source": [
    "# Print the summary statistics for each column of\n",
    "# the dataframe called 'duration'\n",
    "\n",
    "duration.describe()"
   ]
  },
  {
   "cell_type": "code",
   "execution_count": 23,
   "id": "e1fc0dc7",
   "metadata": {},
   "outputs": [
    {
     "name": "stdout",
     "output_type": "stream",
     "text": [
      "<class 'pandas.core.frame.DataFrame'>\n",
      "RangeIndex: 137793 entries, 0 to 137792\n",
      "Data columns (total 8 columns):\n",
      " #   Column                     Non-Null Count   Dtype \n",
      "---  ------                     --------------   ----- \n",
      " 0   sub_icb_location_code      137793 non-null  object\n",
      " 1   sub_icb_location_ons_code  137793 non-null  object\n",
      " 2   sub_icb_location_name      137793 non-null  object\n",
      " 3   icb_ons_code               137793 non-null  object\n",
      " 4   region_ons_code            137793 non-null  object\n",
      " 5   appointment_date           137793 non-null  object\n",
      " 6   actual_duration            137793 non-null  object\n",
      " 7   count_of_appointments      137793 non-null  int64 \n",
      "dtypes: int64(1), object(7)\n",
      "memory usage: 8.4+ MB\n"
     ]
    }
   ],
   "source": [
    "# Print the metadata of the dataframe called 'duration'\n",
    "\n",
    "duration.info()"
   ]
  },
  {
   "cell_type": "markdown",
   "id": "9415ffbf",
   "metadata": {},
   "source": [
    "# Import appointments_regional CSV As 'region' Dataframe"
   ]
  },
  {
   "cell_type": "code",
   "execution_count": 24,
   "id": "b82b159e",
   "metadata": {
    "scrolled": true
   },
   "outputs": [
    {
     "data": {
      "text/html": [
       "<div>\n",
       "<style scoped>\n",
       "    .dataframe tbody tr th:only-of-type {\n",
       "        vertical-align: middle;\n",
       "    }\n",
       "\n",
       "    .dataframe tbody tr th {\n",
       "        vertical-align: top;\n",
       "    }\n",
       "\n",
       "    .dataframe thead th {\n",
       "        text-align: right;\n",
       "    }\n",
       "</style>\n",
       "<table border=\"1\" class=\"dataframe\">\n",
       "  <thead>\n",
       "    <tr style=\"text-align: right;\">\n",
       "      <th></th>\n",
       "      <th>icb_ons_code</th>\n",
       "      <th>appointment_month</th>\n",
       "      <th>appointment_status</th>\n",
       "      <th>hcp_type</th>\n",
       "      <th>appointment_mode</th>\n",
       "      <th>time_between_book_and_appointment</th>\n",
       "      <th>count_of_appointments</th>\n",
       "    </tr>\n",
       "  </thead>\n",
       "  <tbody>\n",
       "    <tr>\n",
       "      <th>0</th>\n",
       "      <td>E54000034</td>\n",
       "      <td>2020-01</td>\n",
       "      <td>Attended</td>\n",
       "      <td>GP</td>\n",
       "      <td>Face-to-Face</td>\n",
       "      <td>1 Day</td>\n",
       "      <td>8107</td>\n",
       "    </tr>\n",
       "    <tr>\n",
       "      <th>1</th>\n",
       "      <td>E54000034</td>\n",
       "      <td>2020-01</td>\n",
       "      <td>Attended</td>\n",
       "      <td>GP</td>\n",
       "      <td>Face-to-Face</td>\n",
       "      <td>15  to 21 Days</td>\n",
       "      <td>6791</td>\n",
       "    </tr>\n",
       "    <tr>\n",
       "      <th>2</th>\n",
       "      <td>E54000034</td>\n",
       "      <td>2020-01</td>\n",
       "      <td>Attended</td>\n",
       "      <td>GP</td>\n",
       "      <td>Face-to-Face</td>\n",
       "      <td>2 to 7 Days</td>\n",
       "      <td>20686</td>\n",
       "    </tr>\n",
       "    <tr>\n",
       "      <th>3</th>\n",
       "      <td>E54000034</td>\n",
       "      <td>2020-01</td>\n",
       "      <td>Attended</td>\n",
       "      <td>GP</td>\n",
       "      <td>Face-to-Face</td>\n",
       "      <td>22  to 28 Days</td>\n",
       "      <td>4268</td>\n",
       "    </tr>\n",
       "    <tr>\n",
       "      <th>4</th>\n",
       "      <td>E54000034</td>\n",
       "      <td>2020-01</td>\n",
       "      <td>Attended</td>\n",
       "      <td>GP</td>\n",
       "      <td>Face-to-Face</td>\n",
       "      <td>8  to 14 Days</td>\n",
       "      <td>11971</td>\n",
       "    </tr>\n",
       "    <tr>\n",
       "      <th>...</th>\n",
       "      <td>...</td>\n",
       "      <td>...</td>\n",
       "      <td>...</td>\n",
       "      <td>...</td>\n",
       "      <td>...</td>\n",
       "      <td>...</td>\n",
       "      <td>...</td>\n",
       "    </tr>\n",
       "    <tr>\n",
       "      <th>596816</th>\n",
       "      <td>E54000050</td>\n",
       "      <td>2022-06</td>\n",
       "      <td>Unknown</td>\n",
       "      <td>Unknown</td>\n",
       "      <td>Unknown</td>\n",
       "      <td>2 to 7 Days</td>\n",
       "      <td>21</td>\n",
       "    </tr>\n",
       "    <tr>\n",
       "      <th>596817</th>\n",
       "      <td>E54000050</td>\n",
       "      <td>2022-06</td>\n",
       "      <td>Unknown</td>\n",
       "      <td>Unknown</td>\n",
       "      <td>Unknown</td>\n",
       "      <td>22  to 28 Days</td>\n",
       "      <td>8</td>\n",
       "    </tr>\n",
       "    <tr>\n",
       "      <th>596818</th>\n",
       "      <td>E54000050</td>\n",
       "      <td>2022-06</td>\n",
       "      <td>Unknown</td>\n",
       "      <td>Unknown</td>\n",
       "      <td>Unknown</td>\n",
       "      <td>8  to 14 Days</td>\n",
       "      <td>28</td>\n",
       "    </tr>\n",
       "    <tr>\n",
       "      <th>596819</th>\n",
       "      <td>E54000050</td>\n",
       "      <td>2022-06</td>\n",
       "      <td>Unknown</td>\n",
       "      <td>Unknown</td>\n",
       "      <td>Unknown</td>\n",
       "      <td>More than 28 Days</td>\n",
       "      <td>17</td>\n",
       "    </tr>\n",
       "    <tr>\n",
       "      <th>596820</th>\n",
       "      <td>E54000050</td>\n",
       "      <td>2022-06</td>\n",
       "      <td>Unknown</td>\n",
       "      <td>Unknown</td>\n",
       "      <td>Unknown</td>\n",
       "      <td>Same Day</td>\n",
       "      <td>10</td>\n",
       "    </tr>\n",
       "  </tbody>\n",
       "</table>\n",
       "<p>596821 rows × 7 columns</p>\n",
       "</div>"
      ],
      "text/plain": [
       "       icb_ons_code appointment_month appointment_status hcp_type  \\\n",
       "0         E54000034           2020-01           Attended       GP   \n",
       "1         E54000034           2020-01           Attended       GP   \n",
       "2         E54000034           2020-01           Attended       GP   \n",
       "3         E54000034           2020-01           Attended       GP   \n",
       "4         E54000034           2020-01           Attended       GP   \n",
       "...             ...               ...                ...      ...   \n",
       "596816    E54000050           2022-06            Unknown  Unknown   \n",
       "596817    E54000050           2022-06            Unknown  Unknown   \n",
       "596818    E54000050           2022-06            Unknown  Unknown   \n",
       "596819    E54000050           2022-06            Unknown  Unknown   \n",
       "596820    E54000050           2022-06            Unknown  Unknown   \n",
       "\n",
       "       appointment_mode time_between_book_and_appointment  \\\n",
       "0          Face-to-Face                             1 Day   \n",
       "1          Face-to-Face                    15  to 21 Days   \n",
       "2          Face-to-Face                       2 to 7 Days   \n",
       "3          Face-to-Face                    22  to 28 Days   \n",
       "4          Face-to-Face                     8  to 14 Days   \n",
       "...                 ...                               ...   \n",
       "596816          Unknown                       2 to 7 Days   \n",
       "596817          Unknown                    22  to 28 Days   \n",
       "596818          Unknown                     8  to 14 Days   \n",
       "596819          Unknown                 More than 28 Days   \n",
       "596820          Unknown                          Same Day   \n",
       "\n",
       "        count_of_appointments  \n",
       "0                        8107  \n",
       "1                        6791  \n",
       "2                       20686  \n",
       "3                        4268  \n",
       "4                       11971  \n",
       "...                       ...  \n",
       "596816                     21  \n",
       "596817                      8  \n",
       "596818                     28  \n",
       "596819                     17  \n",
       "596820                     10  \n",
       "\n",
       "[596821 rows x 7 columns]"
      ]
     },
     "execution_count": 24,
     "metadata": {},
     "output_type": "execute_result"
    }
   ],
   "source": [
    "# Import the appointments_regional CSV File\n",
    "\n",
    "region = pd.read_csv('appointments_regional.csv')\n",
    "\n",
    "region"
   ]
  },
  {
   "cell_type": "markdown",
   "id": "da0d0869",
   "metadata": {},
   "source": [
    "# Sense - Check 'region' Dataframe"
   ]
  },
  {
   "cell_type": "code",
   "execution_count": 25,
   "id": "87d89fa1",
   "metadata": {},
   "outputs": [
    {
     "name": "stdout",
     "output_type": "stream",
     "text": [
      "Index(['icb_ons_code', 'appointment_month', 'appointment_status', 'hcp_type',\n",
      "       'appointment_mode', 'time_between_book_and_appointment',\n",
      "       'count_of_appointments'],\n",
      "      dtype='object')\n"
     ]
    }
   ],
   "source": [
    "# Find the column names for the dataframe called 'region'\n",
    "\n",
    "print (region.columns)"
   ]
  },
  {
   "cell_type": "code",
   "execution_count": 26,
   "id": "b7b10696",
   "metadata": {},
   "outputs": [
    {
     "name": "stdout",
     "output_type": "stream",
     "text": [
      "(596821, 7)\n"
     ]
    }
   ],
   "source": [
    "# Print the the dimensions for the dataframe called 'region'\n",
    "\n",
    "# The number of rows are printed first, followed by the number \n",
    "# of columns\n",
    "\n",
    "print(region.shape)"
   ]
  },
  {
   "cell_type": "code",
   "execution_count": 27,
   "id": "a521726f",
   "metadata": {},
   "outputs": [
    {
     "name": "stdout",
     "output_type": "stream",
     "text": [
      "icb_ons_code                         object\n",
      "appointment_month                    object\n",
      "appointment_status                   object\n",
      "hcp_type                             object\n",
      "appointment_mode                     object\n",
      "time_between_book_and_appointment    object\n",
      "count_of_appointments                 int64\n",
      "dtype: object\n"
     ]
    }
   ],
   "source": [
    "# Print the the data types contained within each column of\n",
    "# the dataframe called 'region'\n",
    "\n",
    "print(region.dtypes)"
   ]
  },
  {
   "cell_type": "code",
   "execution_count": 28,
   "id": "713180e8",
   "metadata": {},
   "outputs": [
    {
     "name": "stdout",
     "output_type": "stream",
     "text": [
      "icb_ons_code                         0\n",
      "appointment_month                    0\n",
      "appointment_status                   0\n",
      "hcp_type                             0\n",
      "appointment_mode                     0\n",
      "time_between_book_and_appointment    0\n",
      "count_of_appointments                0\n",
      "dtype: int64\n"
     ]
    }
   ],
   "source": [
    "# Print the number of missing values within each column\n",
    "# of the dataframe called 'region'\n",
    "\n",
    "print(region.isnull().sum())"
   ]
  },
  {
   "cell_type": "markdown",
   "id": "eeccd495",
   "metadata": {},
   "source": [
    "# Obtain Descriptive Statistics For 'region' Dataframe"
   ]
  },
  {
   "cell_type": "code",
   "execution_count": 29,
   "id": "7f826ba6",
   "metadata": {},
   "outputs": [
    {
     "data": {
      "text/html": [
       "<div>\n",
       "<style scoped>\n",
       "    .dataframe tbody tr th:only-of-type {\n",
       "        vertical-align: middle;\n",
       "    }\n",
       "\n",
       "    .dataframe tbody tr th {\n",
       "        vertical-align: top;\n",
       "    }\n",
       "\n",
       "    .dataframe thead th {\n",
       "        text-align: right;\n",
       "    }\n",
       "</style>\n",
       "<table border=\"1\" class=\"dataframe\">\n",
       "  <thead>\n",
       "    <tr style=\"text-align: right;\">\n",
       "      <th></th>\n",
       "      <th>count_of_appointments</th>\n",
       "    </tr>\n",
       "  </thead>\n",
       "  <tbody>\n",
       "    <tr>\n",
       "      <th>count</th>\n",
       "      <td>596821.000000</td>\n",
       "    </tr>\n",
       "    <tr>\n",
       "      <th>mean</th>\n",
       "      <td>1244.601857</td>\n",
       "    </tr>\n",
       "    <tr>\n",
       "      <th>std</th>\n",
       "      <td>5856.887042</td>\n",
       "    </tr>\n",
       "    <tr>\n",
       "      <th>min</th>\n",
       "      <td>1.000000</td>\n",
       "    </tr>\n",
       "    <tr>\n",
       "      <th>25%</th>\n",
       "      <td>7.000000</td>\n",
       "    </tr>\n",
       "    <tr>\n",
       "      <th>50%</th>\n",
       "      <td>47.000000</td>\n",
       "    </tr>\n",
       "    <tr>\n",
       "      <th>75%</th>\n",
       "      <td>308.000000</td>\n",
       "    </tr>\n",
       "    <tr>\n",
       "      <th>max</th>\n",
       "      <td>211265.000000</td>\n",
       "    </tr>\n",
       "  </tbody>\n",
       "</table>\n",
       "</div>"
      ],
      "text/plain": [
       "       count_of_appointments\n",
       "count          596821.000000\n",
       "mean             1244.601857\n",
       "std              5856.887042\n",
       "min                 1.000000\n",
       "25%                 7.000000\n",
       "50%                47.000000\n",
       "75%               308.000000\n",
       "max            211265.000000"
      ]
     },
     "execution_count": 29,
     "metadata": {},
     "output_type": "execute_result"
    }
   ],
   "source": [
    "# Print the summary statistics for each column of\n",
    "# the dataframe called 'region'\n",
    "\n",
    "region.describe()"
   ]
  },
  {
   "cell_type": "code",
   "execution_count": 30,
   "id": "5a2933a1",
   "metadata": {},
   "outputs": [
    {
     "name": "stdout",
     "output_type": "stream",
     "text": [
      "<class 'pandas.core.frame.DataFrame'>\n",
      "RangeIndex: 596821 entries, 0 to 596820\n",
      "Data columns (total 7 columns):\n",
      " #   Column                             Non-Null Count   Dtype \n",
      "---  ------                             --------------   ----- \n",
      " 0   icb_ons_code                       596821 non-null  object\n",
      " 1   appointment_month                  596821 non-null  object\n",
      " 2   appointment_status                 596821 non-null  object\n",
      " 3   hcp_type                           596821 non-null  object\n",
      " 4   appointment_mode                   596821 non-null  object\n",
      " 5   time_between_book_and_appointment  596821 non-null  object\n",
      " 6   count_of_appointments              596821 non-null  int64 \n",
      "dtypes: int64(1), object(6)\n",
      "memory usage: 31.9+ MB\n"
     ]
    }
   ],
   "source": [
    "# Print the metadata of the dataframe called 'region'\n",
    "\n",
    "region.info()"
   ]
  },
  {
   "cell_type": "markdown",
   "id": "404dd5b0",
   "metadata": {},
   "source": [
    "# Import national_categories excel As 'categories' Dataframe"
   ]
  },
  {
   "cell_type": "code",
   "execution_count": 51,
   "id": "696a6c2b",
   "metadata": {},
   "outputs": [
    {
     "data": {
      "text/html": [
       "<div>\n",
       "<style scoped>\n",
       "    .dataframe tbody tr th:only-of-type {\n",
       "        vertical-align: middle;\n",
       "    }\n",
       "\n",
       "    .dataframe tbody tr th {\n",
       "        vertical-align: top;\n",
       "    }\n",
       "\n",
       "    .dataframe thead th {\n",
       "        text-align: right;\n",
       "    }\n",
       "</style>\n",
       "<table border=\"1\" class=\"dataframe\">\n",
       "  <thead>\n",
       "    <tr style=\"text-align: right;\">\n",
       "      <th></th>\n",
       "      <th>appointment_date</th>\n",
       "      <th>icb_ons_code</th>\n",
       "      <th>sub_icb_location_name</th>\n",
       "      <th>service_setting</th>\n",
       "      <th>context_type</th>\n",
       "      <th>national_category</th>\n",
       "      <th>count_of_appointments</th>\n",
       "      <th>appointment_month</th>\n",
       "    </tr>\n",
       "  </thead>\n",
       "  <tbody>\n",
       "    <tr>\n",
       "      <th>0</th>\n",
       "      <td>2021-08-02</td>\n",
       "      <td>E54000050</td>\n",
       "      <td>NHS North East and North Cumbria ICB - 00L</td>\n",
       "      <td>Primary Care Network</td>\n",
       "      <td>Care Related Encounter</td>\n",
       "      <td>Patient contact during Care Home Round</td>\n",
       "      <td>3</td>\n",
       "      <td>2021-08</td>\n",
       "    </tr>\n",
       "    <tr>\n",
       "      <th>1</th>\n",
       "      <td>2021-08-02</td>\n",
       "      <td>E54000050</td>\n",
       "      <td>NHS North East and North Cumbria ICB - 00L</td>\n",
       "      <td>Other</td>\n",
       "      <td>Care Related Encounter</td>\n",
       "      <td>Planned Clinics</td>\n",
       "      <td>7</td>\n",
       "      <td>2021-08</td>\n",
       "    </tr>\n",
       "    <tr>\n",
       "      <th>2</th>\n",
       "      <td>2021-08-02</td>\n",
       "      <td>E54000050</td>\n",
       "      <td>NHS North East and North Cumbria ICB - 00L</td>\n",
       "      <td>General Practice</td>\n",
       "      <td>Care Related Encounter</td>\n",
       "      <td>Home Visit</td>\n",
       "      <td>79</td>\n",
       "      <td>2021-08</td>\n",
       "    </tr>\n",
       "    <tr>\n",
       "      <th>3</th>\n",
       "      <td>2021-08-02</td>\n",
       "      <td>E54000050</td>\n",
       "      <td>NHS North East and North Cumbria ICB - 00L</td>\n",
       "      <td>General Practice</td>\n",
       "      <td>Care Related Encounter</td>\n",
       "      <td>General Consultation Acute</td>\n",
       "      <td>725</td>\n",
       "      <td>2021-08</td>\n",
       "    </tr>\n",
       "    <tr>\n",
       "      <th>4</th>\n",
       "      <td>2021-08-02</td>\n",
       "      <td>E54000050</td>\n",
       "      <td>NHS North East and North Cumbria ICB - 00L</td>\n",
       "      <td>General Practice</td>\n",
       "      <td>Care Related Encounter</td>\n",
       "      <td>Structured Medication Review</td>\n",
       "      <td>2</td>\n",
       "      <td>2021-08</td>\n",
       "    </tr>\n",
       "    <tr>\n",
       "      <th>...</th>\n",
       "      <td>...</td>\n",
       "      <td>...</td>\n",
       "      <td>...</td>\n",
       "      <td>...</td>\n",
       "      <td>...</td>\n",
       "      <td>...</td>\n",
       "      <td>...</td>\n",
       "      <td>...</td>\n",
       "    </tr>\n",
       "    <tr>\n",
       "      <th>817389</th>\n",
       "      <td>2022-06-30</td>\n",
       "      <td>E54000054</td>\n",
       "      <td>NHS West Yorkshire ICB - X2C4Y</td>\n",
       "      <td>Extended Access Provision</td>\n",
       "      <td>Care Related Encounter</td>\n",
       "      <td>Unplanned Clinical Activity</td>\n",
       "      <td>12</td>\n",
       "      <td>2022-06</td>\n",
       "    </tr>\n",
       "    <tr>\n",
       "      <th>817390</th>\n",
       "      <td>2022-06-30</td>\n",
       "      <td>E54000054</td>\n",
       "      <td>NHS West Yorkshire ICB - X2C4Y</td>\n",
       "      <td>Extended Access Provision</td>\n",
       "      <td>Care Related Encounter</td>\n",
       "      <td>Planned Clinics</td>\n",
       "      <td>4</td>\n",
       "      <td>2022-06</td>\n",
       "    </tr>\n",
       "    <tr>\n",
       "      <th>817391</th>\n",
       "      <td>2022-06-30</td>\n",
       "      <td>E54000054</td>\n",
       "      <td>NHS West Yorkshire ICB - X2C4Y</td>\n",
       "      <td>Extended Access Provision</td>\n",
       "      <td>Care Related Encounter</td>\n",
       "      <td>Planned Clinical Procedure</td>\n",
       "      <td>92</td>\n",
       "      <td>2022-06</td>\n",
       "    </tr>\n",
       "    <tr>\n",
       "      <th>817392</th>\n",
       "      <td>2022-06-30</td>\n",
       "      <td>E54000054</td>\n",
       "      <td>NHS West Yorkshire ICB - X2C4Y</td>\n",
       "      <td>Extended Access Provision</td>\n",
       "      <td>Care Related Encounter</td>\n",
       "      <td>General Consultation Routine</td>\n",
       "      <td>4</td>\n",
       "      <td>2022-06</td>\n",
       "    </tr>\n",
       "    <tr>\n",
       "      <th>817393</th>\n",
       "      <td>2022-06-30</td>\n",
       "      <td>E54000054</td>\n",
       "      <td>NHS West Yorkshire ICB - X2C4Y</td>\n",
       "      <td>Extended Access Provision</td>\n",
       "      <td>Care Related Encounter</td>\n",
       "      <td>General Consultation Acute</td>\n",
       "      <td>19</td>\n",
       "      <td>2022-06</td>\n",
       "    </tr>\n",
       "  </tbody>\n",
       "</table>\n",
       "<p>817394 rows × 8 columns</p>\n",
       "</div>"
      ],
      "text/plain": [
       "       appointment_date icb_ons_code  \\\n",
       "0            2021-08-02    E54000050   \n",
       "1            2021-08-02    E54000050   \n",
       "2            2021-08-02    E54000050   \n",
       "3            2021-08-02    E54000050   \n",
       "4            2021-08-02    E54000050   \n",
       "...                 ...          ...   \n",
       "817389       2022-06-30    E54000054   \n",
       "817390       2022-06-30    E54000054   \n",
       "817391       2022-06-30    E54000054   \n",
       "817392       2022-06-30    E54000054   \n",
       "817393       2022-06-30    E54000054   \n",
       "\n",
       "                             sub_icb_location_name            service_setting  \\\n",
       "0       NHS North East and North Cumbria ICB - 00L       Primary Care Network   \n",
       "1       NHS North East and North Cumbria ICB - 00L                      Other   \n",
       "2       NHS North East and North Cumbria ICB - 00L           General Practice   \n",
       "3       NHS North East and North Cumbria ICB - 00L           General Practice   \n",
       "4       NHS North East and North Cumbria ICB - 00L           General Practice   \n",
       "...                                            ...                        ...   \n",
       "817389              NHS West Yorkshire ICB - X2C4Y  Extended Access Provision   \n",
       "817390              NHS West Yorkshire ICB - X2C4Y  Extended Access Provision   \n",
       "817391              NHS West Yorkshire ICB - X2C4Y  Extended Access Provision   \n",
       "817392              NHS West Yorkshire ICB - X2C4Y  Extended Access Provision   \n",
       "817393              NHS West Yorkshire ICB - X2C4Y  Extended Access Provision   \n",
       "\n",
       "                  context_type                       national_category  \\\n",
       "0       Care Related Encounter  Patient contact during Care Home Round   \n",
       "1       Care Related Encounter                         Planned Clinics   \n",
       "2       Care Related Encounter                              Home Visit   \n",
       "3       Care Related Encounter              General Consultation Acute   \n",
       "4       Care Related Encounter            Structured Medication Review   \n",
       "...                        ...                                     ...   \n",
       "817389  Care Related Encounter             Unplanned Clinical Activity   \n",
       "817390  Care Related Encounter                         Planned Clinics   \n",
       "817391  Care Related Encounter              Planned Clinical Procedure   \n",
       "817392  Care Related Encounter            General Consultation Routine   \n",
       "817393  Care Related Encounter              General Consultation Acute   \n",
       "\n",
       "        count_of_appointments appointment_month  \n",
       "0                           3           2021-08  \n",
       "1                           7           2021-08  \n",
       "2                          79           2021-08  \n",
       "3                         725           2021-08  \n",
       "4                           2           2021-08  \n",
       "...                       ...               ...  \n",
       "817389                     12           2022-06  \n",
       "817390                      4           2022-06  \n",
       "817391                     92           2022-06  \n",
       "817392                      4           2022-06  \n",
       "817393                     19           2022-06  \n",
       "\n",
       "[817394 rows x 8 columns]"
      ]
     },
     "execution_count": 51,
     "metadata": {},
     "output_type": "execute_result"
    }
   ],
   "source": [
    "# Import national_categories excel file\n",
    "\n",
    "categories = pd.read_excel('national_categories.xlsx')\n",
    "\n",
    "categories"
   ]
  },
  {
   "cell_type": "markdown",
   "id": "c10ee68e",
   "metadata": {},
   "source": [
    "# Sense - Check 'categories' Dataframe"
   ]
  },
  {
   "cell_type": "code",
   "execution_count": 38,
   "id": "452a9731",
   "metadata": {},
   "outputs": [
    {
     "name": "stdout",
     "output_type": "stream",
     "text": [
      "Index(['appointment_date', 'icb_ons_code', 'sub_icb_location_name',\n",
      "       'service_setting', 'context_type', 'national_category',\n",
      "       'count_of_appointments', 'appointment_month'],\n",
      "      dtype='object')\n"
     ]
    }
   ],
   "source": [
    "# Find the column names for the dataframe called 'categories'\n",
    "\n",
    "print (categories.columns)"
   ]
  },
  {
   "cell_type": "code",
   "execution_count": 39,
   "id": "de105405",
   "metadata": {},
   "outputs": [
    {
     "name": "stdout",
     "output_type": "stream",
     "text": [
      "(817394, 8)\n"
     ]
    }
   ],
   "source": [
    "# Print the the dimensions for the dataframe called 'categories'\n",
    "\n",
    "# The number of rows are printed first, followed by the number \n",
    "# of columns\n",
    "\n",
    "print(categories.shape)"
   ]
  },
  {
   "cell_type": "code",
   "execution_count": 41,
   "id": "440485ee",
   "metadata": {},
   "outputs": [
    {
     "name": "stdout",
     "output_type": "stream",
     "text": [
      "appointment_date         datetime64[ns]\n",
      "icb_ons_code                     object\n",
      "sub_icb_location_name            object\n",
      "service_setting                  object\n",
      "context_type                     object\n",
      "national_category                object\n",
      "count_of_appointments             int64\n",
      "appointment_month                object\n",
      "dtype: object\n"
     ]
    }
   ],
   "source": [
    "# Print the the data types contained within each column of\n",
    "# the dataframe called 'categories'\n",
    "\n",
    "print(categories.dtypes)"
   ]
  },
  {
   "cell_type": "code",
   "execution_count": 42,
   "id": "ce9a009a",
   "metadata": {},
   "outputs": [
    {
     "name": "stdout",
     "output_type": "stream",
     "text": [
      "appointment_date         0\n",
      "icb_ons_code             0\n",
      "sub_icb_location_name    0\n",
      "service_setting          0\n",
      "context_type             0\n",
      "national_category        0\n",
      "count_of_appointments    0\n",
      "appointment_month        0\n",
      "dtype: int64\n"
     ]
    }
   ],
   "source": [
    "# Print the number of missing values within each column\n",
    "# of the dataframe called 'categories'\n",
    "\n",
    "print(categories.isnull().sum())"
   ]
  },
  {
   "cell_type": "markdown",
   "id": "388e0881",
   "metadata": {},
   "source": [
    "# Obtain Descriptive Statistics For 'categories' Dataframe"
   ]
  },
  {
   "cell_type": "code",
   "execution_count": 43,
   "id": "1b746a63",
   "metadata": {},
   "outputs": [
    {
     "data": {
      "text/html": [
       "<div>\n",
       "<style scoped>\n",
       "    .dataframe tbody tr th:only-of-type {\n",
       "        vertical-align: middle;\n",
       "    }\n",
       "\n",
       "    .dataframe tbody tr th {\n",
       "        vertical-align: top;\n",
       "    }\n",
       "\n",
       "    .dataframe thead th {\n",
       "        text-align: right;\n",
       "    }\n",
       "</style>\n",
       "<table border=\"1\" class=\"dataframe\">\n",
       "  <thead>\n",
       "    <tr style=\"text-align: right;\">\n",
       "      <th></th>\n",
       "      <th>count_of_appointments</th>\n",
       "    </tr>\n",
       "  </thead>\n",
       "  <tbody>\n",
       "    <tr>\n",
       "      <th>count</th>\n",
       "      <td>817394.000000</td>\n",
       "    </tr>\n",
       "    <tr>\n",
       "      <th>mean</th>\n",
       "      <td>362.183684</td>\n",
       "    </tr>\n",
       "    <tr>\n",
       "      <th>std</th>\n",
       "      <td>1084.576600</td>\n",
       "    </tr>\n",
       "    <tr>\n",
       "      <th>min</th>\n",
       "      <td>1.000000</td>\n",
       "    </tr>\n",
       "    <tr>\n",
       "      <th>25%</th>\n",
       "      <td>7.000000</td>\n",
       "    </tr>\n",
       "    <tr>\n",
       "      <th>50%</th>\n",
       "      <td>25.000000</td>\n",
       "    </tr>\n",
       "    <tr>\n",
       "      <th>75%</th>\n",
       "      <td>128.000000</td>\n",
       "    </tr>\n",
       "    <tr>\n",
       "      <th>max</th>\n",
       "      <td>16590.000000</td>\n",
       "    </tr>\n",
       "  </tbody>\n",
       "</table>\n",
       "</div>"
      ],
      "text/plain": [
       "       count_of_appointments\n",
       "count          817394.000000\n",
       "mean              362.183684\n",
       "std              1084.576600\n",
       "min                 1.000000\n",
       "25%                 7.000000\n",
       "50%                25.000000\n",
       "75%               128.000000\n",
       "max             16590.000000"
      ]
     },
     "execution_count": 43,
     "metadata": {},
     "output_type": "execute_result"
    }
   ],
   "source": [
    "# Print the summary statistics for each column of\n",
    "# the dataframe called 'categories'\n",
    "\n",
    "categories.describe()"
   ]
  },
  {
   "cell_type": "code",
   "execution_count": 44,
   "id": "59a4e2b2",
   "metadata": {},
   "outputs": [
    {
     "name": "stdout",
     "output_type": "stream",
     "text": [
      "<class 'pandas.core.frame.DataFrame'>\n",
      "RangeIndex: 817394 entries, 0 to 817393\n",
      "Data columns (total 8 columns):\n",
      " #   Column                 Non-Null Count   Dtype         \n",
      "---  ------                 --------------   -----         \n",
      " 0   appointment_date       817394 non-null  datetime64[ns]\n",
      " 1   icb_ons_code           817394 non-null  object        \n",
      " 2   sub_icb_location_name  817394 non-null  object        \n",
      " 3   service_setting        817394 non-null  object        \n",
      " 4   context_type           817394 non-null  object        \n",
      " 5   national_category      817394 non-null  object        \n",
      " 6   count_of_appointments  817394 non-null  int64         \n",
      " 7   appointment_month      817394 non-null  object        \n",
      "dtypes: datetime64[ns](1), int64(1), object(6)\n",
      "memory usage: 49.9+ MB\n"
     ]
    }
   ],
   "source": [
    "# Print the metadata of the dataframe called 'categories'\n",
    "\n",
    "categories.info()"
   ]
  },
  {
   "cell_type": "markdown",
   "id": "f616680e",
   "metadata": {},
   "source": [
    "# Explore The Data"
   ]
  },
  {
   "cell_type": "code",
   "execution_count": 54,
   "id": "e8c931a2",
   "metadata": {},
   "outputs": [
    {
     "name": "stdout",
     "output_type": "stream",
     "text": [
      "Count of locations:  0         NHS North East and North Cumbria ICB - 00L\n",
      "1         NHS North East and North Cumbria ICB - 00L\n",
      "2         NHS North East and North Cumbria ICB - 00L\n",
      "3         NHS North East and North Cumbria ICB - 00L\n",
      "4         NHS North East and North Cumbria ICB - 00L\n",
      "                             ...                    \n",
      "817389                NHS West Yorkshire ICB - X2C4Y\n",
      "817390                NHS West Yorkshire ICB - X2C4Y\n",
      "817391                NHS West Yorkshire ICB - X2C4Y\n",
      "817392                NHS West Yorkshire ICB - X2C4Y\n",
      "817393                NHS West Yorkshire ICB - X2C4Y\n",
      "Name: sub_icb_location_name, Length: 817394, dtype: object\n"
     ]
    }
   ],
   "source": [
    "# Print the locations column from the 'categories' DataFrame\n",
    "\n",
    "print(\"Count of locations: \", categories['sub_icb_location_name'])"
   ]
  },
  {
   "cell_type": "code",
   "execution_count": 82,
   "id": "aeecae05",
   "metadata": {},
   "outputs": [
    {
     "name": "stdout",
     "output_type": "stream",
     "text": [
      "Count of locations:  NHS Greater Manchester ICB - 00V                2170\n",
      "NHS Cheshire and Merseyside ICB - 01T           3242\n",
      "NHS Cheshire and Merseyside ICB - 01V           3496\n",
      "NHS Lancashire and South Cumbria ICB - 02G      4169\n",
      "NHS North East and North Cumbria ICB - 00N      4210\n",
      "                                               ...  \n",
      "NHS North East London ICB - A3A8R              11837\n",
      "NHS Hampshire and Isle Of Wight ICB - D9Y0V    12171\n",
      "NHS Devon ICB - 15N                            12526\n",
      "NHS Kent and Medway ICB - 91Q                  12637\n",
      "NHS North West London ICB - W2U3Z              13007\n",
      "Name: sub_icb_location_name, Length: 106, dtype: int64\n"
     ]
    }
   ],
   "source": [
    "# Print the distinct locations and their counts \n",
    "\n",
    "\n",
    "print(\"Count of locations: \", categories['sub_icb_location_name'].value_counts(ascending=True))"
   ]
  },
  {
   "cell_type": "code",
   "execution_count": 83,
   "id": "ad931064",
   "metadata": {},
   "outputs": [
    {
     "name": "stdout",
     "output_type": "stream",
     "text": [
      "Count of Service Settings:  Unmapped                      27419\n",
      "Extended Access Provision    108122\n",
      "Other                        138789\n",
      "Primary Care Network         183790\n",
      "General Practice             359274\n",
      "Name: service_setting, dtype: int64\n"
     ]
    }
   ],
   "source": [
    "# Print the distinct service settings and their counts \n",
    "\n",
    "print(\"Count of Service Settings: \", categories['service_setting'].value_counts(ascending=True))"
   ]
  },
  {
   "cell_type": "code",
   "execution_count": 84,
   "id": "83557a0a",
   "metadata": {},
   "outputs": [
    {
     "name": "stdout",
     "output_type": "stream",
     "text": [
      "Count of context types:  Unmapped                   27419\n",
      "Inconsistent Mapping       89494\n",
      "Care Related Encounter    700481\n",
      "Name: context_type, dtype: int64\n"
     ]
    }
   ],
   "source": [
    "# Print the distinct context types and their counts \n",
    "\n",
    "print(\"Count of context types: \", categories['context_type'].value_counts(ascending=True))"
   ]
  },
  {
   "cell_type": "code",
   "execution_count": 85,
   "id": "ae57a0b7",
   "metadata": {},
   "outputs": [
    {
     "name": "stdout",
     "output_type": "stream",
     "text": [
      "Count of national categories:  Group Consultation and Group Education                                  5341\n",
      "Walk-in                                                                14179\n",
      "Non-contractual chargeable work                                        20896\n",
      "Care Home Needs Assessment & Personalised Care and Support Planning    23505\n",
      "Social Prescribing Service                                             26492\n",
      "Care Home Visit                                                        26644\n",
      "Unmapped                                                               27419\n",
      "Patient contact during Care Home Round                                 28795\n",
      "Unplanned Clinical Activity                                            40415\n",
      "Home Visit                                                             41850\n",
      "Service provided by organisation external to the practice              43095\n",
      "Structured Medication Review                                           44467\n",
      "Planned Clinical Procedure                                             59631\n",
      "Clinical Triage                                                        74539\n",
      "Planned Clinics                                                        76429\n",
      "General Consultation Acute                                             84874\n",
      "General Consultation Routine                                           89329\n",
      "Inconsistent Mapping                                                   89494\n",
      "Name: national_category, dtype: int64\n"
     ]
    }
   ],
   "source": [
    "# Print the distinct national categories and their counts \n",
    "\n",
    "print(\"Count of national categories: \", categories['national_category'].value_counts(ascending=True))"
   ]
  },
  {
   "cell_type": "code",
   "execution_count": 86,
   "id": "ea8006ad",
   "metadata": {},
   "outputs": [
    {
     "name": "stdout",
     "output_type": "stream",
     "text": [
      "Count of appointment statuses:  DNA         163360\n",
      "Unknown     201324\n",
      "Attended    232137\n",
      "Name: appointment_status, dtype: int64\n"
     ]
    }
   ],
   "source": [
    "# Print the distinct national categories and their counts \n",
    "\n",
    "print(\"Count of appointment statuses: \", region['appointment_status'].value_counts(ascending=True))"
   ]
  },
  {
   "cell_type": "markdown",
   "id": "18213fc0",
   "metadata": {},
   "source": [
    "# WEEK 2 QUESTIONS"
   ]
  },
  {
   "cell_type": "markdown",
   "id": "dfcf2473",
   "metadata": {},
   "source": [
    "#  1. "
   ]
  },
  {
   "cell_type": "markdown",
   "id": "fd225ae4",
   "metadata": {},
   "source": [
    "How many locations are there in the data set?\n",
    "\n",
    "106 distinct locations\n",
    "\n",
    "817,394 locations in total, including duplicates"
   ]
  },
  {
   "cell_type": "markdown",
   "id": "630fd899",
   "metadata": {},
   "source": [
    "#  2."
   ]
  },
  {
   "cell_type": "markdown",
   "id": "b82c5927",
   "metadata": {},
   "source": [
    "What are the five locations with the highest number of records?\n",
    "\n",
    "The 5 locations with the most records are:\n",
    "\n",
    "                                    NHS North West London ICB - W2U3Z;\n",
    "                                    NHS Kent and Medway ICB - 91Q;\n",
    "                                    NHS Kent and Medway ICB - 91Q;  \n",
    "                                    NHS Devon ICB - 15N;\n",
    "                                    NHS Hampshire and Isle Of Wight ICB - D9Y0V  "
   ]
  },
  {
   "cell_type": "markdown",
   "id": "d33e1694",
   "metadata": {},
   "source": [
    "#  3."
   ]
  },
  {
   "cell_type": "markdown",
   "id": "eaa094e9",
   "metadata": {},
   "source": [
    "How many service settings, context types, national categories, and appointment statuses are there?\n",
    "\n",
    "a. Number of Service Settings: 5 \n",
    "\n",
    "b. Number of Context Types: 3 \n",
    "\n",
    "c. Number of National Categories: 18              \n",
    "    \n",
    "d. Number of Appointment Statuses: 3 \n",
    "    \n",
    "    "
   ]
  },
  {
   "cell_type": "code",
   "execution_count": null,
   "id": "cfc15247",
   "metadata": {},
   "outputs": [],
   "source": []
  }
 ],
 "metadata": {
  "kernelspec": {
   "display_name": "Python 3 (ipykernel)",
   "language": "python",
   "name": "python3"
  },
  "language_info": {
   "codemirror_mode": {
    "name": "ipython",
    "version": 3
   },
   "file_extension": ".py",
   "mimetype": "text/x-python",
   "name": "python",
   "nbconvert_exporter": "python",
   "pygments_lexer": "ipython3",
   "version": "3.9.12"
  }
 },
 "nbformat": 4,
 "nbformat_minor": 5
}
